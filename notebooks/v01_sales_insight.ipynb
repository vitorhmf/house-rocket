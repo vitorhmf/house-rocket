{
  "cells": [
    {
      "cell_type": "markdown",
      "metadata": {
        "id": "cGmU4_snektO"
      },
      "source": [
        "# 0. Imports"
      ]
    },
    {
      "cell_type": "markdown",
      "metadata": {
        "id": "3FM0uMYVfQMb"
      },
      "source": [
        "## 0.1 Libs"
      ]
    },
    {
      "cell_type": "code",
      "execution_count": 4,
      "metadata": {
        "id": "NtsmmO8zeH3-"
      },
      "outputs": [],
      "source": [
        "import pandas   as pd\n",
        "import numpy    as np\n",
        "import seaborn  as sns\n",
        "\n",
        "from IPython.display  import Image\n",
        "from matplotlib       import pyplot as plt\n"
      ]
    },
    {
      "cell_type": "markdown",
      "metadata": {
        "id": "f6XGGYcefVms"
      },
      "source": [
        "## 0.2 Helper Functions"
      ]
    },
    {
      "cell_type": "code",
      "execution_count": null,
      "metadata": {
        "id": "0qZDAcjRfMag"
      },
      "outputs": [],
      "source": []
    },
    {
      "cell_type": "markdown",
      "metadata": {
        "id": "E41MywY5fcNy"
      },
      "source": [
        "## 0.3 Loading data"
      ]
    },
    {
      "cell_type": "code",
      "execution_count": 5,
      "metadata": {
        "id": "xpXJnXNmfiAQ"
      },
      "outputs": [],
      "source": [
        "df_raw = pd.read_csv('../data/kc_house_data.csv')"
      ]
    },
    {
      "cell_type": "markdown",
      "metadata": {
        "id": "NIUmjgPyg61g"
      },
      "source": [
        "# 1. Descrição dos dados "
      ]
    },
    {
      "cell_type": "markdown",
      "metadata": {
        "id": "iUAihytfE6kV"
      },
      "source": [
        "## 1.0 Overview"
      ]
    },
    {
      "cell_type": "code",
      "execution_count": 6,
      "metadata": {
        "colab": {
          "base_uri": "https://localhost:8080/"
        },
        "id": "vFHMjNjvg3Er",
        "outputId": "23c69c51-1fbb-4866-e43c-c578413636f3"
      },
      "outputs": [
        {
          "data": {
            "text/plain": [
              "Index(['id', 'date', 'price', 'bedrooms', 'bathrooms', 'sqft_living',\n",
              "       'sqft_lot', 'floors', 'waterfront', 'view', 'condition', 'grade',\n",
              "       'sqft_above', 'sqft_basement', 'yr_built', 'yr_renovated', 'zipcode',\n",
              "       'lat', 'long', 'sqft_living15', 'sqft_lot15'],\n",
              "      dtype='object')"
            ]
          },
          "execution_count": 6,
          "metadata": {},
          "output_type": "execute_result"
        }
      ],
      "source": [
        "df1 = df_raw.copy()\n",
        "df1.columns"
      ]
    },
    {
      "cell_type": "code",
      "execution_count": 7,
      "metadata": {
        "colab": {
          "base_uri": "https://localhost:8080/",
          "height": 708
        },
        "id": "rPUx4V5OEVFB",
        "outputId": "29535d47-09d1-406a-f3b5-b8685e1a974c"
      },
      "outputs": [
        {
          "data": {
            "text/html": [
              "<div>\n",
              "<style scoped>\n",
              "    .dataframe tbody tr th:only-of-type {\n",
              "        vertical-align: middle;\n",
              "    }\n",
              "\n",
              "    .dataframe tbody tr th {\n",
              "        vertical-align: top;\n",
              "    }\n",
              "\n",
              "    .dataframe thead th {\n",
              "        text-align: right;\n",
              "    }\n",
              "</style>\n",
              "<table border=\"1\" class=\"dataframe\">\n",
              "  <thead>\n",
              "    <tr style=\"text-align: right;\">\n",
              "      <th></th>\n",
              "      <th>9984</th>\n",
              "      <th>16188</th>\n",
              "    </tr>\n",
              "  </thead>\n",
              "  <tbody>\n",
              "    <tr>\n",
              "      <th>id</th>\n",
              "      <td>1442800060</td>\n",
              "      <td>522079022</td>\n",
              "    </tr>\n",
              "    <tr>\n",
              "      <th>date</th>\n",
              "      <td>20141120T000000</td>\n",
              "      <td>20150327T000000</td>\n",
              "    </tr>\n",
              "    <tr>\n",
              "      <th>price</th>\n",
              "      <td>205000.0</td>\n",
              "      <td>700000.0</td>\n",
              "    </tr>\n",
              "    <tr>\n",
              "      <th>bedrooms</th>\n",
              "      <td>3</td>\n",
              "      <td>3</td>\n",
              "    </tr>\n",
              "    <tr>\n",
              "      <th>bathrooms</th>\n",
              "      <td>2.5</td>\n",
              "      <td>2.5</td>\n",
              "    </tr>\n",
              "    <tr>\n",
              "      <th>sqft_living</th>\n",
              "      <td>1870</td>\n",
              "      <td>2530</td>\n",
              "    </tr>\n",
              "    <tr>\n",
              "      <th>sqft_lot</th>\n",
              "      <td>3118</td>\n",
              "      <td>623779</td>\n",
              "    </tr>\n",
              "    <tr>\n",
              "      <th>floors</th>\n",
              "      <td>2.0</td>\n",
              "      <td>1.0</td>\n",
              "    </tr>\n",
              "    <tr>\n",
              "      <th>waterfront</th>\n",
              "      <td>0</td>\n",
              "      <td>0</td>\n",
              "    </tr>\n",
              "    <tr>\n",
              "      <th>view</th>\n",
              "      <td>0</td>\n",
              "      <td>0</td>\n",
              "    </tr>\n",
              "    <tr>\n",
              "      <th>condition</th>\n",
              "      <td>3</td>\n",
              "      <td>4</td>\n",
              "    </tr>\n",
              "    <tr>\n",
              "      <th>grade</th>\n",
              "      <td>8</td>\n",
              "      <td>8</td>\n",
              "    </tr>\n",
              "    <tr>\n",
              "      <th>sqft_above</th>\n",
              "      <td>1870.0</td>\n",
              "      <td>2530.0</td>\n",
              "    </tr>\n",
              "    <tr>\n",
              "      <th>sqft_basement</th>\n",
              "      <td>0</td>\n",
              "      <td>0</td>\n",
              "    </tr>\n",
              "    <tr>\n",
              "      <th>yr_built</th>\n",
              "      <td>1993</td>\n",
              "      <td>1980</td>\n",
              "    </tr>\n",
              "    <tr>\n",
              "      <th>yr_renovated</th>\n",
              "      <td>0</td>\n",
              "      <td>0</td>\n",
              "    </tr>\n",
              "    <tr>\n",
              "      <th>zipcode</th>\n",
              "      <td>98038</td>\n",
              "      <td>98038</td>\n",
              "    </tr>\n",
              "    <tr>\n",
              "      <th>lat</th>\n",
              "      <td>47.3739</td>\n",
              "      <td>47.4188</td>\n",
              "    </tr>\n",
              "    <tr>\n",
              "      <th>long</th>\n",
              "      <td>-122.056</td>\n",
              "      <td>-121.949</td>\n",
              "    </tr>\n",
              "    <tr>\n",
              "      <th>sqft_living15</th>\n",
              "      <td>1580</td>\n",
              "      <td>2120</td>\n",
              "    </tr>\n",
              "    <tr>\n",
              "      <th>sqft_lot15</th>\n",
              "      <td>3601</td>\n",
              "      <td>100623</td>\n",
              "    </tr>\n",
              "  </tbody>\n",
              "</table>\n",
              "</div>"
            ],
            "text/plain": [
              "                         9984             16188\n",
              "id                  1442800060        522079022\n",
              "date           20141120T000000  20150327T000000\n",
              "price                 205000.0         700000.0\n",
              "bedrooms                     3                3\n",
              "bathrooms                  2.5              2.5\n",
              "sqft_living               1870             2530\n",
              "sqft_lot                  3118           623779\n",
              "floors                     2.0              1.0\n",
              "waterfront                   0                0\n",
              "view                         0                0\n",
              "condition                    3                4\n",
              "grade                        8                8\n",
              "sqft_above              1870.0           2530.0\n",
              "sqft_basement                0                0\n",
              "yr_built                  1993             1980\n",
              "yr_renovated                 0                0\n",
              "zipcode                  98038            98038\n",
              "lat                    47.3739          47.4188\n",
              "long                  -122.056         -121.949\n",
              "sqft_living15             1580             2120\n",
              "sqft_lot15                3601           100623"
            ]
          },
          "execution_count": 7,
          "metadata": {},
          "output_type": "execute_result"
        }
      ],
      "source": [
        "df1.sample(2).T"
      ]
    },
    {
      "cell_type": "markdown",
      "metadata": {
        "id": "2xKEEpH2hGki"
      },
      "source": [
        "## 1.1 Dimensão dos dados"
      ]
    },
    {
      "cell_type": "code",
      "execution_count": 8,
      "metadata": {
        "colab": {
          "base_uri": "https://localhost:8080/"
        },
        "id": "N7Hr112zhDND",
        "outputId": "bb836168-6484-43e5-bccd-9c22ce784471"
      },
      "outputs": [
        {
          "name": "stdout",
          "output_type": "stream",
          "text": [
            "Número de linhas:21613\n",
            "Número de colunas:21\n"
          ]
        }
      ],
      "source": [
        "print(f'Número de linhas:{df1.shape[0]}')\n",
        "print(f'Número de colunas:{df1.shape[1]}')"
      ]
    },
    {
      "cell_type": "markdown",
      "metadata": {
        "id": "WQSR-s_UiHaY"
      },
      "source": [
        "## 1.2 Data Types"
      ]
    },
    {
      "cell_type": "code",
      "execution_count": 9,
      "metadata": {
        "colab": {
          "base_uri": "https://localhost:8080/"
        },
        "id": "ZTY5qiVEiKas",
        "outputId": "617133f4-2430-4560-842d-6addae0ee52b"
      },
      "outputs": [
        {
          "data": {
            "text/plain": [
              "id                 int64\n",
              "date              object\n",
              "price            float64\n",
              "bedrooms           int64\n",
              "bathrooms        float64\n",
              "sqft_living        int64\n",
              "sqft_lot           int64\n",
              "floors           float64\n",
              "waterfront         int64\n",
              "view               int64\n",
              "condition          int64\n",
              "grade              int64\n",
              "sqft_above       float64\n",
              "sqft_basement      int64\n",
              "yr_built           int64\n",
              "yr_renovated       int64\n",
              "zipcode            int64\n",
              "lat              float64\n",
              "long             float64\n",
              "sqft_living15      int64\n",
              "sqft_lot15         int64\n",
              "dtype: object"
            ]
          },
          "execution_count": 9,
          "metadata": {},
          "output_type": "execute_result"
        }
      ],
      "source": [
        "df1.dtypes"
      ]
    },
    {
      "cell_type": "markdown",
      "metadata": {
        "id": "KQTqGCOfiVga"
      },
      "source": [
        "### 1.2.1 Change Types"
      ]
    },
    {
      "cell_type": "code",
      "execution_count": 10,
      "metadata": {
        "id": "LparJ18giaei"
      },
      "outputs": [],
      "source": [
        "df1['date'] = pd.to_datetime(df1['date'])\n",
        "df1['bathrooms'] = df1['bathrooms'].astype(int)\n",
        "df1['floors'] = df1['floors'].astype(int)"
      ]
    },
    {
      "cell_type": "code",
      "execution_count": 11,
      "metadata": {
        "colab": {
          "base_uri": "https://localhost:8080/"
        },
        "id": "0pQaBmhGifY9",
        "outputId": "68e9ecd1-9428-4f79-815e-d575965f9283"
      },
      "outputs": [
        {
          "data": {
            "text/plain": [
              "id                        int64\n",
              "date             datetime64[ns]\n",
              "price                   float64\n",
              "bedrooms                  int64\n",
              "bathrooms                 int32\n",
              "sqft_living               int64\n",
              "sqft_lot                  int64\n",
              "floors                    int32\n",
              "waterfront                int64\n",
              "view                      int64\n",
              "condition                 int64\n",
              "grade                     int64\n",
              "sqft_above              float64\n",
              "sqft_basement             int64\n",
              "yr_built                  int64\n",
              "yr_renovated              int64\n",
              "zipcode                   int64\n",
              "lat                     float64\n",
              "long                    float64\n",
              "sqft_living15             int64\n",
              "sqft_lot15                int64\n",
              "dtype: object"
            ]
          },
          "execution_count": 11,
          "metadata": {},
          "output_type": "execute_result"
        }
      ],
      "source": [
        "df1.dtypes"
      ]
    },
    {
      "cell_type": "markdown",
      "metadata": {
        "id": "otl37Yhth7yw"
      },
      "source": [
        "## 1.3 Check NA"
      ]
    },
    {
      "cell_type": "code",
      "execution_count": 12,
      "metadata": {
        "colab": {
          "base_uri": "https://localhost:8080/"
        },
        "id": "f3T7mhCmhRKk",
        "outputId": "26cf1284-45d8-4561-ce9f-0049897be0aa"
      },
      "outputs": [
        {
          "data": {
            "text/plain": [
              "id               0\n",
              "date             0\n",
              "price            0\n",
              "bedrooms         0\n",
              "bathrooms        0\n",
              "sqft_living      0\n",
              "sqft_lot         0\n",
              "floors           0\n",
              "waterfront       0\n",
              "view             0\n",
              "condition        0\n",
              "grade            0\n",
              "sqft_above       2\n",
              "sqft_basement    0\n",
              "yr_built         0\n",
              "yr_renovated     0\n",
              "zipcode          0\n",
              "lat              0\n",
              "long             0\n",
              "sqft_living15    0\n",
              "sqft_lot15       0\n",
              "dtype: int64"
            ]
          },
          "execution_count": 12,
          "metadata": {},
          "output_type": "execute_result"
        }
      ],
      "source": [
        "df1.isna().sum()"
      ]
    },
    {
      "cell_type": "markdown",
      "metadata": {
        "id": "fWgwrd9Tkhvf"
      },
      "source": [
        "## 1.4 Estatística Descritiva"
      ]
    },
    {
      "cell_type": "markdown",
      "metadata": {
        "id": "D-cjtUMfkllC"
      },
      "source": [
        "### 1.4.1 Definindo Datasets Numérico e Categórico"
      ]
    },
    {
      "cell_type": "code",
      "execution_count": 13,
      "metadata": {
        "id": "Wpe484hKlKV9"
      },
      "outputs": [],
      "source": [
        "num_attributes = df1.select_dtypes(include=['int64', 'float64'])\n",
        "\n",
        "#Obs.: O conjunto de dados não possui variáveis categóricas, somente data e variáveis numéricas"
      ]
    },
    {
      "cell_type": "markdown",
      "metadata": {
        "id": "oR0Ds_JikuNN"
      },
      "source": [
        "### 1.4.2 Variáveis Numéricas"
      ]
    },
    {
      "cell_type": "code",
      "execution_count": 14,
      "metadata": {
        "colab": {
          "base_uri": "https://localhost:8080/",
          "height": 677
        },
        "id": "6RZPmcQRlM2-",
        "outputId": "c1bac2b8-3ff3-4b75-cb46-9b9662b67956"
      },
      "outputs": [
        {
          "data": {
            "text/html": [
              "<div>\n",
              "<style scoped>\n",
              "    .dataframe tbody tr th:only-of-type {\n",
              "        vertical-align: middle;\n",
              "    }\n",
              "\n",
              "    .dataframe tbody tr th {\n",
              "        vertical-align: top;\n",
              "    }\n",
              "\n",
              "    .dataframe thead th {\n",
              "        text-align: right;\n",
              "    }\n",
              "</style>\n",
              "<table border=\"1\" class=\"dataframe\">\n",
              "  <thead>\n",
              "    <tr style=\"text-align: right;\">\n",
              "      <th></th>\n",
              "      <th>attributes</th>\n",
              "      <th>min</th>\n",
              "      <th>max</th>\n",
              "      <th>range</th>\n",
              "      <th>mean</th>\n",
              "      <th>median</th>\n",
              "      <th>std</th>\n",
              "      <th>skew</th>\n",
              "      <th>kurtosis</th>\n",
              "    </tr>\n",
              "  </thead>\n",
              "  <tbody>\n",
              "    <tr>\n",
              "      <th>0</th>\n",
              "      <td>id</td>\n",
              "      <td>1.000102e+06</td>\n",
              "      <td>9.900000e+09</td>\n",
              "      <td>9.899000e+09</td>\n",
              "      <td>4.580302e+09</td>\n",
              "      <td>3.904930e+09</td>\n",
              "      <td>2.876499e+09</td>\n",
              "      <td>0.243329</td>\n",
              "      <td>-1.260542</td>\n",
              "    </tr>\n",
              "    <tr>\n",
              "      <th>1</th>\n",
              "      <td>price</td>\n",
              "      <td>7.500000e+04</td>\n",
              "      <td>7.700000e+06</td>\n",
              "      <td>7.625000e+06</td>\n",
              "      <td>5.400881e+05</td>\n",
              "      <td>4.500000e+05</td>\n",
              "      <td>3.671187e+05</td>\n",
              "      <td>4.024069</td>\n",
              "      <td>34.585540</td>\n",
              "    </tr>\n",
              "    <tr>\n",
              "      <th>2</th>\n",
              "      <td>bedrooms</td>\n",
              "      <td>0.000000e+00</td>\n",
              "      <td>3.300000e+01</td>\n",
              "      <td>3.300000e+01</td>\n",
              "      <td>3.370842e+00</td>\n",
              "      <td>3.000000e+00</td>\n",
              "      <td>9.300403e-01</td>\n",
              "      <td>1.974300</td>\n",
              "      <td>49.063653</td>\n",
              "    </tr>\n",
              "    <tr>\n",
              "      <th>3</th>\n",
              "      <td>sqft_living</td>\n",
              "      <td>2.900000e+02</td>\n",
              "      <td>1.354000e+04</td>\n",
              "      <td>1.325000e+04</td>\n",
              "      <td>2.079900e+03</td>\n",
              "      <td>1.910000e+03</td>\n",
              "      <td>9.184196e+02</td>\n",
              "      <td>1.471555</td>\n",
              "      <td>5.243093</td>\n",
              "    </tr>\n",
              "    <tr>\n",
              "      <th>4</th>\n",
              "      <td>sqft_lot</td>\n",
              "      <td>5.200000e+02</td>\n",
              "      <td>1.651359e+06</td>\n",
              "      <td>1.650839e+06</td>\n",
              "      <td>1.510697e+04</td>\n",
              "      <td>7.618000e+03</td>\n",
              "      <td>4.141955e+04</td>\n",
              "      <td>13.060019</td>\n",
              "      <td>285.077820</td>\n",
              "    </tr>\n",
              "    <tr>\n",
              "      <th>5</th>\n",
              "      <td>waterfront</td>\n",
              "      <td>0.000000e+00</td>\n",
              "      <td>1.000000e+00</td>\n",
              "      <td>1.000000e+00</td>\n",
              "      <td>7.541757e-03</td>\n",
              "      <td>0.000000e+00</td>\n",
              "      <td>8.651520e-02</td>\n",
              "      <td>11.385108</td>\n",
              "      <td>127.632494</td>\n",
              "    </tr>\n",
              "    <tr>\n",
              "      <th>6</th>\n",
              "      <td>view</td>\n",
              "      <td>0.000000e+00</td>\n",
              "      <td>4.000000e+00</td>\n",
              "      <td>4.000000e+00</td>\n",
              "      <td>2.343034e-01</td>\n",
              "      <td>0.000000e+00</td>\n",
              "      <td>7.662998e-01</td>\n",
              "      <td>3.395750</td>\n",
              "      <td>10.893022</td>\n",
              "    </tr>\n",
              "    <tr>\n",
              "      <th>7</th>\n",
              "      <td>condition</td>\n",
              "      <td>1.000000e+00</td>\n",
              "      <td>5.000000e+00</td>\n",
              "      <td>4.000000e+00</td>\n",
              "      <td>3.409430e+00</td>\n",
              "      <td>3.000000e+00</td>\n",
              "      <td>6.507280e-01</td>\n",
              "      <td>1.032805</td>\n",
              "      <td>0.525764</td>\n",
              "    </tr>\n",
              "    <tr>\n",
              "      <th>8</th>\n",
              "      <td>grade</td>\n",
              "      <td>1.000000e+00</td>\n",
              "      <td>1.300000e+01</td>\n",
              "      <td>1.200000e+01</td>\n",
              "      <td>7.656873e+00</td>\n",
              "      <td>7.000000e+00</td>\n",
              "      <td>1.175432e+00</td>\n",
              "      <td>0.771103</td>\n",
              "      <td>1.190932</td>\n",
              "    </tr>\n",
              "    <tr>\n",
              "      <th>9</th>\n",
              "      <td>sqft_above</td>\n",
              "      <td>2.900000e+02</td>\n",
              "      <td>9.410000e+03</td>\n",
              "      <td>9.120000e+03</td>\n",
              "      <td>1.788396e+03</td>\n",
              "      <td>NaN</td>\n",
              "      <td>8.281090e+02</td>\n",
              "      <td>1.446584</td>\n",
              "      <td>3.401708</td>\n",
              "    </tr>\n",
              "    <tr>\n",
              "      <th>10</th>\n",
              "      <td>sqft_basement</td>\n",
              "      <td>0.000000e+00</td>\n",
              "      <td>4.820000e+03</td>\n",
              "      <td>4.820000e+03</td>\n",
              "      <td>2.915090e+02</td>\n",
              "      <td>0.000000e+00</td>\n",
              "      <td>4.425648e+02</td>\n",
              "      <td>1.577965</td>\n",
              "      <td>2.715574</td>\n",
              "    </tr>\n",
              "    <tr>\n",
              "      <th>11</th>\n",
              "      <td>yr_built</td>\n",
              "      <td>1.900000e+03</td>\n",
              "      <td>2.015000e+03</td>\n",
              "      <td>1.150000e+02</td>\n",
              "      <td>1.971005e+03</td>\n",
              "      <td>1.975000e+03</td>\n",
              "      <td>2.937273e+01</td>\n",
              "      <td>-0.469805</td>\n",
              "      <td>-0.657408</td>\n",
              "    </tr>\n",
              "    <tr>\n",
              "      <th>12</th>\n",
              "      <td>yr_renovated</td>\n",
              "      <td>0.000000e+00</td>\n",
              "      <td>2.015000e+03</td>\n",
              "      <td>2.015000e+03</td>\n",
              "      <td>8.440226e+01</td>\n",
              "      <td>0.000000e+00</td>\n",
              "      <td>4.016699e+02</td>\n",
              "      <td>4.549493</td>\n",
              "      <td>18.701152</td>\n",
              "    </tr>\n",
              "    <tr>\n",
              "      <th>13</th>\n",
              "      <td>zipcode</td>\n",
              "      <td>9.800100e+04</td>\n",
              "      <td>9.819900e+04</td>\n",
              "      <td>1.980000e+02</td>\n",
              "      <td>9.807794e+04</td>\n",
              "      <td>9.806500e+04</td>\n",
              "      <td>5.350379e+01</td>\n",
              "      <td>0.405661</td>\n",
              "      <td>-0.853479</td>\n",
              "    </tr>\n",
              "    <tr>\n",
              "      <th>14</th>\n",
              "      <td>lat</td>\n",
              "      <td>4.715590e+01</td>\n",
              "      <td>4.777760e+01</td>\n",
              "      <td>6.217000e-01</td>\n",
              "      <td>4.756005e+01</td>\n",
              "      <td>4.757180e+01</td>\n",
              "      <td>1.385605e-01</td>\n",
              "      <td>-0.485270</td>\n",
              "      <td>-0.676313</td>\n",
              "    </tr>\n",
              "    <tr>\n",
              "      <th>15</th>\n",
              "      <td>long</td>\n",
              "      <td>-1.225190e+02</td>\n",
              "      <td>-1.213150e+02</td>\n",
              "      <td>1.204000e+00</td>\n",
              "      <td>-1.222139e+02</td>\n",
              "      <td>-1.222300e+02</td>\n",
              "      <td>1.408251e-01</td>\n",
              "      <td>0.885053</td>\n",
              "      <td>1.049501</td>\n",
              "    </tr>\n",
              "    <tr>\n",
              "      <th>16</th>\n",
              "      <td>sqft_living15</td>\n",
              "      <td>3.990000e+02</td>\n",
              "      <td>6.210000e+03</td>\n",
              "      <td>5.811000e+03</td>\n",
              "      <td>1.986552e+03</td>\n",
              "      <td>1.840000e+03</td>\n",
              "      <td>6.853754e+02</td>\n",
              "      <td>1.108181</td>\n",
              "      <td>1.597096</td>\n",
              "    </tr>\n",
              "    <tr>\n",
              "      <th>17</th>\n",
              "      <td>sqft_lot15</td>\n",
              "      <td>6.510000e+02</td>\n",
              "      <td>8.712000e+05</td>\n",
              "      <td>8.705490e+05</td>\n",
              "      <td>1.276846e+04</td>\n",
              "      <td>7.620000e+03</td>\n",
              "      <td>2.730355e+04</td>\n",
              "      <td>9.506743</td>\n",
              "      <td>150.763110</td>\n",
              "    </tr>\n",
              "  </tbody>\n",
              "</table>\n",
              "</div>"
            ],
            "text/plain": [
              "       attributes           min           max         range          mean  \\\n",
              "0              id  1.000102e+06  9.900000e+09  9.899000e+09  4.580302e+09   \n",
              "1           price  7.500000e+04  7.700000e+06  7.625000e+06  5.400881e+05   \n",
              "2        bedrooms  0.000000e+00  3.300000e+01  3.300000e+01  3.370842e+00   \n",
              "3     sqft_living  2.900000e+02  1.354000e+04  1.325000e+04  2.079900e+03   \n",
              "4        sqft_lot  5.200000e+02  1.651359e+06  1.650839e+06  1.510697e+04   \n",
              "5      waterfront  0.000000e+00  1.000000e+00  1.000000e+00  7.541757e-03   \n",
              "6            view  0.000000e+00  4.000000e+00  4.000000e+00  2.343034e-01   \n",
              "7       condition  1.000000e+00  5.000000e+00  4.000000e+00  3.409430e+00   \n",
              "8           grade  1.000000e+00  1.300000e+01  1.200000e+01  7.656873e+00   \n",
              "9      sqft_above  2.900000e+02  9.410000e+03  9.120000e+03  1.788396e+03   \n",
              "10  sqft_basement  0.000000e+00  4.820000e+03  4.820000e+03  2.915090e+02   \n",
              "11       yr_built  1.900000e+03  2.015000e+03  1.150000e+02  1.971005e+03   \n",
              "12   yr_renovated  0.000000e+00  2.015000e+03  2.015000e+03  8.440226e+01   \n",
              "13        zipcode  9.800100e+04  9.819900e+04  1.980000e+02  9.807794e+04   \n",
              "14            lat  4.715590e+01  4.777760e+01  6.217000e-01  4.756005e+01   \n",
              "15           long -1.225190e+02 -1.213150e+02  1.204000e+00 -1.222139e+02   \n",
              "16  sqft_living15  3.990000e+02  6.210000e+03  5.811000e+03  1.986552e+03   \n",
              "17     sqft_lot15  6.510000e+02  8.712000e+05  8.705490e+05  1.276846e+04   \n",
              "\n",
              "          median           std       skew    kurtosis  \n",
              "0   3.904930e+09  2.876499e+09   0.243329   -1.260542  \n",
              "1   4.500000e+05  3.671187e+05   4.024069   34.585540  \n",
              "2   3.000000e+00  9.300403e-01   1.974300   49.063653  \n",
              "3   1.910000e+03  9.184196e+02   1.471555    5.243093  \n",
              "4   7.618000e+03  4.141955e+04  13.060019  285.077820  \n",
              "5   0.000000e+00  8.651520e-02  11.385108  127.632494  \n",
              "6   0.000000e+00  7.662998e-01   3.395750   10.893022  \n",
              "7   3.000000e+00  6.507280e-01   1.032805    0.525764  \n",
              "8   7.000000e+00  1.175432e+00   0.771103    1.190932  \n",
              "9            NaN  8.281090e+02   1.446584    3.401708  \n",
              "10  0.000000e+00  4.425648e+02   1.577965    2.715574  \n",
              "11  1.975000e+03  2.937273e+01  -0.469805   -0.657408  \n",
              "12  0.000000e+00  4.016699e+02   4.549493   18.701152  \n",
              "13  9.806500e+04  5.350379e+01   0.405661   -0.853479  \n",
              "14  4.757180e+01  1.385605e-01  -0.485270   -0.676313  \n",
              "15 -1.222300e+02  1.408251e-01   0.885053    1.049501  \n",
              "16  1.840000e+03  6.853754e+02   1.108181    1.597096  \n",
              "17  7.620000e+03  2.730355e+04   9.506743  150.763110  "
            ]
          },
          "execution_count": 14,
          "metadata": {},
          "output_type": "execute_result"
        }
      ],
      "source": [
        "# Medidas de Tendência Central (média e mediana)\n",
        "ct1 = pd.DataFrame(num_attributes.apply(np.mean)).T\n",
        "ct2 = pd.DataFrame(num_attributes.apply(np.median)).T\n",
        "\n",
        "# Medidas de Dispersão (std, min, max, range, skew, kurtosis)\n",
        "d1 = pd.DataFrame(num_attributes.apply(np.std)).T\n",
        "d2 = pd.DataFrame(num_attributes.apply(np.min)).T\n",
        "d3 = pd.DataFrame(num_attributes.apply(np.max)).T\n",
        "d4 = pd.DataFrame(num_attributes.apply(lambda x: x.max() - x.min())).T\n",
        "d5 = pd.DataFrame(num_attributes.apply(lambda x: x.skew())).T\n",
        "d6 = pd.DataFrame(num_attributes.apply(lambda x: x.kurtosis())).T\n",
        "\n",
        "# Concatenar\n",
        "m = pd.concat( [ d2, d3, d4, ct1, ct2, d1, d5, d6 ] ).T.reset_index()\n",
        "m.columns = ['attributes', 'min', 'max', 'range', 'mean', 'median', 'std', 'skew', 'kurtosis']\n",
        "m\n",
        "\n",
        "#Obs.: arredondar valores de média, desvio padrão, skew e kurtosis"
      ]
    },
    {
      "cell_type": "markdown",
      "metadata": {
        "id": "8PBM_1XnpWlR"
      },
      "source": [
        "# 2. Feature Engineering"
      ]
    },
    {
      "cell_type": "markdown",
      "metadata": {
        "id": "UPQMuGTKpce4"
      },
      "source": [
        "## 2.1 Mapa mental das hipóteses"
      ]
    },
    {
      "cell_type": "code",
      "execution_count": 17,
      "metadata": {
        "colab": {
          "base_uri": "https://localhost:8080/",
          "height": 936
        },
        "id": "Ohsuaj8jL5oR",
        "outputId": "22db6be7-d6e1-4fbe-ca5a-c03b2f7400fb"
      },
      "outputs": [
        {
          "data": {
            "image/png": "[encoded data removed]",
            "text/plain": [
              "<IPython.core.display.Image object>"
            ]
          },
          "execution_count": 17,
          "metadata": {},
          "output_type": "execute_result"
        }
      ],
      "source": [
        "Image('../image/mind_map.png')"
      ]
    },
    {
      "cell_type": "markdown",
      "metadata": {
        "id": "49zTKYOvpo-g"
      },
      "source": [
        "## 2.2 Criação das hipóteses"
      ]
    },
    {
      "cell_type": "markdown",
      "metadata": {
        "id": "rmqFmV3iFPvV"
      },
      "source": [
        "* Hipótese 1: o crescimento do preço dos imóveis de 2014 para 2015 foi de 10%.\n",
        "* Hipótese 2: imóveis que possuem vista para água são 20% mais caros na média.\n",
        "* Hipótese 3: a área dos imoveis com vista para a agua, em média, é 50% maior que os demais.\n",
        "* Hipótese 4: imóveis sem porão possuem área total 40% maior que os imoveis com porão.\n",
        "* Hipótese 5: imóveis com 3 banheiros tiveram um crescimento de 15% ao mês (MoM)\n",
        "* Hipótese 6: imóveis que foram reformados e estão em boas condições são, em média, 20% mais caros que os não reformados nas mesmas condições.\n",
        "* Hipótese 7: imóveis em más condições são 20% mais baratos que imoveis em boas condições.\n",
        "* Hipótese 8: imóveis construídos depois dos anos 2000 possuem área total 20% menor que os demais.\n",
        "* Hipótese 9: imoveis construídos depois dos anos 2000 são 30% mais caros que os demais\n",
        "* Hipótese 10: imóveis com data de construção menor que 1955 são 50% mais baratos na média.\n",
        "* Hipótese 11: a melhor época para vender é no verão.\n",
        "\n"
      ]
    },
    {
      "cell_type": "markdown",
      "metadata": {
        "id": "L1wYpPDoqYCm"
      },
      "source": [
        "## 2.3 Feature Engineering"
      ]
    },
    {
      "cell_type": "code",
      "execution_count": 18,
      "metadata": {
        "id": "N359HJLdxmpI"
      },
      "outputs": [],
      "source": [
        "df2 = df1.copy()"
      ]
    },
    {
      "cell_type": "code",
      "execution_count": 19,
      "metadata": {
        "id": "pWjl0S_MpbA8"
      },
      "outputs": [],
      "source": [
        "# Features derivadas do tempo: \n",
        "\n",
        "# Month:\n",
        "df2['month'] = df2['date'].dt.month\n",
        "\n",
        "# Year: \n",
        "df2['year'] = df2['date'].dt.year\n",
        "\n",
        "# Season:\n",
        "for i in range(len(df2)):\n",
        "  if (df2.loc[i, 'month'] <= 2 ) or (df2.loc[i, 'month'] == 12):\n",
        "      df2.loc[i, 'season'] = 'inverno'\n",
        "  elif df2.loc[i, 'month'] <= 5:\n",
        "      df2.loc[i, 'season'] = 'primavera'\n",
        "  elif df2.loc[i, 'month'] <= 8:\n",
        "      df2.loc[i, 'season'] = 'verao'\n",
        "  else:\n",
        "      df2.loc[i, 'season'] = 'outono'\n"
      ]
    },
    {
      "cell_type": "code",
      "execution_count": 20,
      "metadata": {
        "id": "4S413j8g-rGL"
      },
      "outputs": [],
      "source": [
        "# Features com nova unidade de área:\n",
        "\n",
        "# sqft2 para m2:\n",
        "df2['m2_lot']      = df2['sqft_lot'] / 10.764\n",
        "df2['m2_living']   = df2['sqft_living'] / 10.764\n",
        "df2['m2_above']    = df2['sqft_above'] / 10.764\n",
        "df2['m2_basement'] = df2['sqft_basement'] / 10.764\n",
        "\n",
        "# Preço/m2:\n",
        "df2['price_m2'] = df2['price'] / df2['m2_lot']\n",
        "\n",
        "# Preço/m2 por região:\n",
        "df_temp1 = df2[['zipcode', 'price_m2']].groupby('zipcode').median().reset_index()\n",
        "df_temp1 = df_temp1.rename(columns={'price_m2': 'median_price_m2_zipcode'})\n",
        "df2 = pd.merge( df2, df_temp1, on='zipcode', how='inner')"
      ]
    },
    {
      "cell_type": "code",
      "execution_count": 21,
      "metadata": {
        "id": "gKxItoGMhIZQ"
      },
      "outputs": [],
      "source": [
        "# Features de agrupamento dos imóveis\n",
        "\n",
        "# Por tipo de imóvel:\n",
        "df2['dormitory_type'] = 'NA'\n",
        "for i in range( len( df2 ) ):\n",
        "    if df2.loc[i, 'bedrooms'] <= 1:\n",
        "      df2.loc[i, 'dormitory_type'] = 'studio'  \n",
        "    elif df2.loc[i, 'bedrooms'] <= 2:\n",
        "      df2.loc[i, 'dormitory_type'] = 'apartment'\n",
        "    elif df2.loc[i, 'bedrooms'] <= 4:\n",
        "      df2.loc[i, 'dormitory_type'] = 'house'\n",
        "    else:\n",
        "      df2.loc[i, 'dormitory_type'] = 'mansion'\n",
        "\n",
        "# Por preço/m2:\n",
        "df2['price_group'] = 'NA'\n",
        "for i in range( len( df2 ) ):\n",
        "    # preço/m2 está acima da mediana\n",
        "    if df2.loc[i, 'price_m2'] > df2.loc[i, 'median_price_m2_zipcode']:\n",
        "      df2.loc[i, 'price_group'] = 'acima da mediana'  \n",
        "    # preço/m2 está entre 100% e 75% da mediana\n",
        "    elif df2.loc[i, 'price_m2'] >= df2.loc[i, 'median_price_m2_zipcode']*0.75:\n",
        "      df2.loc[i, 'price_group'] = 'quartil_1'\n",
        "    # preço/m2 está entre 75% e 50% da mediana\n",
        "    elif df2.loc[i, 'price_m2'] >= df2.loc[i, 'median_price_m2_zipcode']*0.5:\n",
        "      df2.loc[i, 'price_group'] = 'quartil_2' \n",
        "    # preço/m2 está entre 50% e 25% da mediana\n",
        "    elif df2.loc[i, 'price_m2'] >= df2.loc[i, 'median_price_m2_zipcode']*0.25:\n",
        "      df2.loc[i, 'price_group'] = 'quartil_3'\n",
        "    # preço/m2 está entre 25% e 0% da mediana\n",
        "    else:\n",
        "      df2.loc[i, 'price_group'] = 'quartil_4'\n",
        "\n",
        "# Por ano de contrução:\n",
        "df2['house_age'] = 'NA'\n",
        "for i in range( len( df2 ) ):\n",
        "    if df2.loc[i, 'yr_built'] > 2000:\n",
        "      df2.loc[i, 'house_age'] = 'new_house'\n",
        "    elif df2.loc[i, 'yr_built'] > 1950:\n",
        "      df2.loc[i, 'house_age'] = 'old_house'\n",
        "    else:\n",
        "      df2.loc[i, 'house_age'] = 'very_old_house'\n"
      ]
    },
    {
      "cell_type": "code",
      "execution_count": 22,
      "metadata": {
        "colab": {
          "base_uri": "https://localhost:8080/",
          "height": 457
        },
        "id": "1UaBT7HhQsUr",
        "outputId": "80bd3384-1706-499c-d0d3-c2508825a1c8"
      },
      "outputs": [
        {
          "data": {
            "text/html": [
              "<div>\n",
              "<style scoped>\n",
              "    .dataframe tbody tr th:only-of-type {\n",
              "        vertical-align: middle;\n",
              "    }\n",
              "\n",
              "    .dataframe tbody tr th {\n",
              "        vertical-align: top;\n",
              "    }\n",
              "\n",
              "    .dataframe thead th {\n",
              "        text-align: right;\n",
              "    }\n",
              "</style>\n",
              "<table border=\"1\" class=\"dataframe\">\n",
              "  <thead>\n",
              "    <tr style=\"text-align: right;\">\n",
              "      <th></th>\n",
              "      <th>house_age</th>\n",
              "      <th>condition</th>\n",
              "      <th>price</th>\n",
              "    </tr>\n",
              "  </thead>\n",
              "  <tbody>\n",
              "    <tr>\n",
              "      <th>0</th>\n",
              "      <td>new_house</td>\n",
              "      <td>3</td>\n",
              "      <td>4513</td>\n",
              "    </tr>\n",
              "    <tr>\n",
              "      <th>1</th>\n",
              "      <td>new_house</td>\n",
              "      <td>4</td>\n",
              "      <td>26</td>\n",
              "    </tr>\n",
              "    <tr>\n",
              "      <th>2</th>\n",
              "      <td>new_house</td>\n",
              "      <td>5</td>\n",
              "      <td>2</td>\n",
              "    </tr>\n",
              "    <tr>\n",
              "      <th>3</th>\n",
              "      <td>old_house</td>\n",
              "      <td>1</td>\n",
              "      <td>7</td>\n",
              "    </tr>\n",
              "    <tr>\n",
              "      <th>4</th>\n",
              "      <td>old_house</td>\n",
              "      <td>2</td>\n",
              "      <td>77</td>\n",
              "    </tr>\n",
              "    <tr>\n",
              "      <th>5</th>\n",
              "      <td>old_house</td>\n",
              "      <td>3</td>\n",
              "      <td>7050</td>\n",
              "    </tr>\n",
              "    <tr>\n",
              "      <th>6</th>\n",
              "      <td>old_house</td>\n",
              "      <td>4</td>\n",
              "      <td>3905</td>\n",
              "    </tr>\n",
              "    <tr>\n",
              "      <th>7</th>\n",
              "      <td>old_house</td>\n",
              "      <td>5</td>\n",
              "      <td>846</td>\n",
              "    </tr>\n",
              "    <tr>\n",
              "      <th>8</th>\n",
              "      <td>very_old_house</td>\n",
              "      <td>1</td>\n",
              "      <td>23</td>\n",
              "    </tr>\n",
              "    <tr>\n",
              "      <th>9</th>\n",
              "      <td>very_old_house</td>\n",
              "      <td>2</td>\n",
              "      <td>95</td>\n",
              "    </tr>\n",
              "    <tr>\n",
              "      <th>10</th>\n",
              "      <td>very_old_house</td>\n",
              "      <td>3</td>\n",
              "      <td>2468</td>\n",
              "    </tr>\n",
              "    <tr>\n",
              "      <th>11</th>\n",
              "      <td>very_old_house</td>\n",
              "      <td>4</td>\n",
              "      <td>1748</td>\n",
              "    </tr>\n",
              "    <tr>\n",
              "      <th>12</th>\n",
              "      <td>very_old_house</td>\n",
              "      <td>5</td>\n",
              "      <td>853</td>\n",
              "    </tr>\n",
              "  </tbody>\n",
              "</table>\n",
              "</div>"
            ],
            "text/plain": [
              "         house_age  condition  price\n",
              "0        new_house          3   4513\n",
              "1        new_house          4     26\n",
              "2        new_house          5      2\n",
              "3        old_house          1      7\n",
              "4        old_house          2     77\n",
              "5        old_house          3   7050\n",
              "6        old_house          4   3905\n",
              "7        old_house          5    846\n",
              "8   very_old_house          1     23\n",
              "9   very_old_house          2     95\n",
              "10  very_old_house          3   2468\n",
              "11  very_old_house          4   1748\n",
              "12  very_old_house          5    853"
            ]
          },
          "execution_count": 22,
          "metadata": {},
          "output_type": "execute_result"
        }
      ],
      "source": [
        "df2[['house_age', 'condition', 'price']].groupby(['house_age', 'condition']).count().reset_index()"
      ]
    },
    {
      "cell_type": "code",
      "execution_count": 23,
      "metadata": {
        "id": "QYKUdF-ry88k"
      },
      "outputs": [],
      "source": [
        "# Feature com melhor período de venda:\n",
        "    # Obs.: calculei a mediana por zipcode e por estação do ano e selecionei a estação que tinha a maior mediana\n",
        "\n",
        "df_temp2 = df2[['zipcode', 'season', 'price_m2']].groupby(['zipcode', 'season']).median().reset_index()\n",
        "\n",
        "for i in range(len(df_temp2)):\n",
        "  df_temp2.loc[i, 'concat'] = str(df_temp2.loc[i, 'zipcode']) + '_' + str(df_temp2.loc[i, 'price_m2'])\n",
        "\n",
        "better_season = df_temp2[['zipcode', 'price_m2']].groupby('zipcode').max().reset_index()\n",
        "\n",
        "for i in range(len(better_season)):\n",
        "  better_season.loc[i, 'concat'] = str(better_season.loc[i, 'zipcode']) + '_' + str(better_season.loc[i, 'price_m2'])\n",
        "\n",
        "better_season = pd.merge( better_season, df_temp2[['concat', 'season']], on='concat', how='inner')\n",
        "better_season.columns = ['zipcode', 'max_median_price_m2_zipcode', 'concat', 'better_season_to_sell']\n",
        "df2 = pd.merge (df2, better_season[['zipcode', 'better_season_to_sell', 'max_median_price_m2_zipcode']], on='zipcode', how='inner')\n"
      ]
    },
    {
      "cell_type": "markdown",
      "metadata": {
        "id": "68AViwT69mvB"
      },
      "source": [
        "# 3. Filtro de Variáveis"
      ]
    },
    {
      "cell_type": "markdown",
      "metadata": {
        "id": "xSsQXq2m-pEZ"
      },
      "source": [
        "## 3.1 Filtragem de linhas"
      ]
    },
    {
      "cell_type": "code",
      "execution_count": 24,
      "metadata": {
        "id": "mEbZfj9S9zhf"
      },
      "outputs": [],
      "source": [
        "df3 = df2.copy()"
      ]
    },
    {
      "cell_type": "code",
      "execution_count": 25,
      "metadata": {
        "id": "zI81PILg_Bfq"
      },
      "outputs": [],
      "source": [
        "# Retirando imóvel com 33 quartos (registro incorreto)\n",
        "df3 = df3[df3['bedrooms'] < 33]"
      ]
    },
    {
      "cell_type": "code",
      "execution_count": 26,
      "metadata": {
        "id": "UTX-qMIXAeVC"
      },
      "outputs": [],
      "source": [
        "# Retirando imóveis sem banheiro:\n",
        "\n",
        "df3 = df3[df3['bathrooms'] >= 1]"
      ]
    },
    {
      "cell_type": "markdown",
      "metadata": {
        "id": "AHFpYZxRCmWg"
      },
      "source": [
        "## 3.2 Filtragem de colunas"
      ]
    },
    {
      "cell_type": "code",
      "execution_count": 27,
      "metadata": {
        "id": "U2ECWL9EAMJP"
      },
      "outputs": [],
      "source": [
        "cols_drop = ['sqft_lot', 'sqft_living', 'sqft_above', 'sqft_basement', 'sqft_living15', 'sqft_lot15', 'max_median_price_m2_zipcode']\n",
        "df3 = df3.drop(cols_drop, axis=1)"
      ]
    },
    {
      "cell_type": "code",
      "execution_count": 28,
      "metadata": {
        "colab": {
          "base_uri": "https://localhost:8080/",
          "height": 927
        },
        "id": "N8bjb6PjCzYH",
        "outputId": "053fbe05-9d05-4660-e0ea-1730a7ff121c"
      },
      "outputs": [
        {
          "data": {
            "text/html": [
              "<div>\n",
              "<style scoped>\n",
              "    .dataframe tbody tr th:only-of-type {\n",
              "        vertical-align: middle;\n",
              "    }\n",
              "\n",
              "    .dataframe tbody tr th {\n",
              "        vertical-align: top;\n",
              "    }\n",
              "\n",
              "    .dataframe thead th {\n",
              "        text-align: right;\n",
              "    }\n",
              "</style>\n",
              "<table border=\"1\" class=\"dataframe\">\n",
              "  <thead>\n",
              "    <tr style=\"text-align: right;\">\n",
              "      <th></th>\n",
              "      <th>17794</th>\n",
              "      <th>14869</th>\n",
              "      <th>2275</th>\n",
              "      <th>853</th>\n",
              "      <th>6877</th>\n",
              "    </tr>\n",
              "  </thead>\n",
              "  <tbody>\n",
              "    <tr>\n",
              "      <th>id</th>\n",
              "      <td>7853390260</td>\n",
              "      <td>6791050450</td>\n",
              "      <td>1150700170</td>\n",
              "      <td>8718500555</td>\n",
              "      <td>4136870020</td>\n",
              "    </tr>\n",
              "    <tr>\n",
              "      <th>date</th>\n",
              "      <td>2015-02-05 00:00:00</td>\n",
              "      <td>2014-08-21 00:00:00</td>\n",
              "      <td>2014-09-26 00:00:00</td>\n",
              "      <td>2014-09-15 00:00:00</td>\n",
              "      <td>2014-10-08 00:00:00</td>\n",
              "    </tr>\n",
              "    <tr>\n",
              "      <th>price</th>\n",
              "      <td>640000.0</td>\n",
              "      <td>770000.0</td>\n",
              "      <td>299000.0</td>\n",
              "      <td>450000.0</td>\n",
              "      <td>332100.0</td>\n",
              "    </tr>\n",
              "    <tr>\n",
              "      <th>bedrooms</th>\n",
              "      <td>4</td>\n",
              "      <td>3</td>\n",
              "      <td>4</td>\n",
              "      <td>3</td>\n",
              "      <td>5</td>\n",
              "    </tr>\n",
              "    <tr>\n",
              "      <th>bathrooms</th>\n",
              "      <td>3</td>\n",
              "      <td>2</td>\n",
              "      <td>2</td>\n",
              "      <td>1</td>\n",
              "      <td>3</td>\n",
              "    </tr>\n",
              "    <tr>\n",
              "      <th>floors</th>\n",
              "      <td>2</td>\n",
              "      <td>2</td>\n",
              "      <td>2</td>\n",
              "      <td>1</td>\n",
              "      <td>2</td>\n",
              "    </tr>\n",
              "    <tr>\n",
              "      <th>waterfront</th>\n",
              "      <td>0</td>\n",
              "      <td>0</td>\n",
              "      <td>0</td>\n",
              "      <td>0</td>\n",
              "      <td>0</td>\n",
              "    </tr>\n",
              "    <tr>\n",
              "      <th>view</th>\n",
              "      <td>0</td>\n",
              "      <td>0</td>\n",
              "      <td>0</td>\n",
              "      <td>0</td>\n",
              "      <td>0</td>\n",
              "    </tr>\n",
              "    <tr>\n",
              "      <th>condition</th>\n",
              "      <td>3</td>\n",
              "      <td>3</td>\n",
              "      <td>3</td>\n",
              "      <td>3</td>\n",
              "      <td>3</td>\n",
              "    </tr>\n",
              "    <tr>\n",
              "      <th>grade</th>\n",
              "      <td>9</td>\n",
              "      <td>10</td>\n",
              "      <td>7</td>\n",
              "      <td>7</td>\n",
              "      <td>8</td>\n",
              "    </tr>\n",
              "    <tr>\n",
              "      <th>yr_built</th>\n",
              "      <td>2013</td>\n",
              "      <td>1995</td>\n",
              "      <td>1996</td>\n",
              "      <td>1956</td>\n",
              "      <td>1996</td>\n",
              "    </tr>\n",
              "    <tr>\n",
              "      <th>yr_renovated</th>\n",
              "      <td>0</td>\n",
              "      <td>0</td>\n",
              "      <td>0</td>\n",
              "      <td>0</td>\n",
              "      <td>0</td>\n",
              "    </tr>\n",
              "    <tr>\n",
              "      <th>zipcode</th>\n",
              "      <td>98065</td>\n",
              "      <td>98075</td>\n",
              "      <td>98003</td>\n",
              "      <td>98028</td>\n",
              "      <td>98092</td>\n",
              "    </tr>\n",
              "    <tr>\n",
              "      <th>lat</th>\n",
              "      <td>47.5169</td>\n",
              "      <td>47.58</td>\n",
              "      <td>47.2774</td>\n",
              "      <td>47.7394</td>\n",
              "      <td>47.2631</td>\n",
              "    </tr>\n",
              "    <tr>\n",
              "      <th>long</th>\n",
              "      <td>-121.886</td>\n",
              "      <td>-122.057</td>\n",
              "      <td>-122.299</td>\n",
              "      <td>-122.252</td>\n",
              "      <td>-122.212</td>\n",
              "    </tr>\n",
              "    <tr>\n",
              "      <th>month</th>\n",
              "      <td>2</td>\n",
              "      <td>8</td>\n",
              "      <td>9</td>\n",
              "      <td>9</td>\n",
              "      <td>10</td>\n",
              "    </tr>\n",
              "    <tr>\n",
              "      <th>year</th>\n",
              "      <td>2015</td>\n",
              "      <td>2014</td>\n",
              "      <td>2014</td>\n",
              "      <td>2014</td>\n",
              "      <td>2014</td>\n",
              "    </tr>\n",
              "    <tr>\n",
              "      <th>season</th>\n",
              "      <td>inverno</td>\n",
              "      <td>verao</td>\n",
              "      <td>outono</td>\n",
              "      <td>outono</td>\n",
              "      <td>outono</td>\n",
              "    </tr>\n",
              "    <tr>\n",
              "      <th>m2_lot</th>\n",
              "      <td>533.351914</td>\n",
              "      <td>1057.227796</td>\n",
              "      <td>621.794872</td>\n",
              "      <td>902.173913</td>\n",
              "      <td>648.272018</td>\n",
              "    </tr>\n",
              "    <tr>\n",
              "      <th>m2_living</th>\n",
              "      <td>299.145299</td>\n",
              "      <td>253.623188</td>\n",
              "      <td>173.727239</td>\n",
              "      <td>133.779264</td>\n",
              "      <td>247.12003</td>\n",
              "    </tr>\n",
              "    <tr>\n",
              "      <th>m2_above</th>\n",
              "      <td>299.145299</td>\n",
              "      <td>253.623188</td>\n",
              "      <td>173.727239</td>\n",
              "      <td>105.908584</td>\n",
              "      <td>183.946488</td>\n",
              "    </tr>\n",
              "    <tr>\n",
              "      <th>m2_basement</th>\n",
              "      <td>0.0</td>\n",
              "      <td>0.0</td>\n",
              "      <td>0.0</td>\n",
              "      <td>27.87068</td>\n",
              "      <td>63.173541</td>\n",
              "    </tr>\n",
              "    <tr>\n",
              "      <th>price_m2</th>\n",
              "      <td>1199.958195</td>\n",
              "      <td>728.319859</td>\n",
              "      <td>480.865979</td>\n",
              "      <td>498.795181</td>\n",
              "      <td>512.284953</td>\n",
              "    </tr>\n",
              "    <tr>\n",
              "      <th>median_price_m2_zipcode</th>\n",
              "      <td>927.762635</td>\n",
              "      <td>783.31553</td>\n",
              "      <td>323.293374</td>\n",
              "      <td>479.277108</td>\n",
              "      <td>357.3648</td>\n",
              "    </tr>\n",
              "    <tr>\n",
              "      <th>dormitory_type</th>\n",
              "      <td>house</td>\n",
              "      <td>house</td>\n",
              "      <td>house</td>\n",
              "      <td>house</td>\n",
              "      <td>mansion</td>\n",
              "    </tr>\n",
              "    <tr>\n",
              "      <th>price_group</th>\n",
              "      <td>acima da mediana</td>\n",
              "      <td>quartil_1</td>\n",
              "      <td>acima da mediana</td>\n",
              "      <td>acima da mediana</td>\n",
              "      <td>acima da mediana</td>\n",
              "    </tr>\n",
              "    <tr>\n",
              "      <th>house_age</th>\n",
              "      <td>new_house</td>\n",
              "      <td>old_house</td>\n",
              "      <td>old_house</td>\n",
              "      <td>old_house</td>\n",
              "      <td>old_house</td>\n",
              "    </tr>\n",
              "    <tr>\n",
              "      <th>better_season_to_sell</th>\n",
              "      <td>primavera</td>\n",
              "      <td>primavera</td>\n",
              "      <td>primavera</td>\n",
              "      <td>outono</td>\n",
              "      <td>outono</td>\n",
              "    </tr>\n",
              "  </tbody>\n",
              "</table>\n",
              "</div>"
            ],
            "text/plain": [
              "                                       17794                14869  \\\n",
              "id                                7853390260           6791050450   \n",
              "date                     2015-02-05 00:00:00  2014-08-21 00:00:00   \n",
              "price                               640000.0             770000.0   \n",
              "bedrooms                                   4                    3   \n",
              "bathrooms                                  3                    2   \n",
              "floors                                     2                    2   \n",
              "waterfront                                 0                    0   \n",
              "view                                       0                    0   \n",
              "condition                                  3                    3   \n",
              "grade                                      9                   10   \n",
              "yr_built                                2013                 1995   \n",
              "yr_renovated                               0                    0   \n",
              "zipcode                                98065                98075   \n",
              "lat                                  47.5169                47.58   \n",
              "long                                -121.886             -122.057   \n",
              "month                                      2                    8   \n",
              "year                                    2015                 2014   \n",
              "season                               inverno                verao   \n",
              "m2_lot                            533.351914          1057.227796   \n",
              "m2_living                         299.145299           253.623188   \n",
              "m2_above                          299.145299           253.623188   \n",
              "m2_basement                              0.0                  0.0   \n",
              "price_m2                         1199.958195           728.319859   \n",
              "median_price_m2_zipcode           927.762635            783.31553   \n",
              "dormitory_type                         house                house   \n",
              "price_group                 acima da mediana            quartil_1   \n",
              "house_age                          new_house            old_house   \n",
              "better_season_to_sell              primavera            primavera   \n",
              "\n",
              "                                       2275                 853    \\\n",
              "id                                1150700170           8718500555   \n",
              "date                     2014-09-26 00:00:00  2014-09-15 00:00:00   \n",
              "price                               299000.0             450000.0   \n",
              "bedrooms                                   4                    3   \n",
              "bathrooms                                  2                    1   \n",
              "floors                                     2                    1   \n",
              "waterfront                                 0                    0   \n",
              "view                                       0                    0   \n",
              "condition                                  3                    3   \n",
              "grade                                      7                    7   \n",
              "yr_built                                1996                 1956   \n",
              "yr_renovated                               0                    0   \n",
              "zipcode                                98003                98028   \n",
              "lat                                  47.2774              47.7394   \n",
              "long                                -122.299             -122.252   \n",
              "month                                      9                    9   \n",
              "year                                    2014                 2014   \n",
              "season                                outono               outono   \n",
              "m2_lot                            621.794872           902.173913   \n",
              "m2_living                         173.727239           133.779264   \n",
              "m2_above                          173.727239           105.908584   \n",
              "m2_basement                              0.0             27.87068   \n",
              "price_m2                          480.865979           498.795181   \n",
              "median_price_m2_zipcode           323.293374           479.277108   \n",
              "dormitory_type                         house                house   \n",
              "price_group                 acima da mediana     acima da mediana   \n",
              "house_age                          old_house            old_house   \n",
              "better_season_to_sell              primavera               outono   \n",
              "\n",
              "                                       6877   \n",
              "id                                4136870020  \n",
              "date                     2014-10-08 00:00:00  \n",
              "price                               332100.0  \n",
              "bedrooms                                   5  \n",
              "bathrooms                                  3  \n",
              "floors                                     2  \n",
              "waterfront                                 0  \n",
              "view                                       0  \n",
              "condition                                  3  \n",
              "grade                                      8  \n",
              "yr_built                                1996  \n",
              "yr_renovated                               0  \n",
              "zipcode                                98092  \n",
              "lat                                  47.2631  \n",
              "long                                -122.212  \n",
              "month                                     10  \n",
              "year                                    2014  \n",
              "season                                outono  \n",
              "m2_lot                            648.272018  \n",
              "m2_living                          247.12003  \n",
              "m2_above                          183.946488  \n",
              "m2_basement                        63.173541  \n",
              "price_m2                          512.284953  \n",
              "median_price_m2_zipcode             357.3648  \n",
              "dormitory_type                       mansion  \n",
              "price_group                 acima da mediana  \n",
              "house_age                          old_house  \n",
              "better_season_to_sell                 outono  "
            ]
          },
          "execution_count": 28,
          "metadata": {},
          "output_type": "execute_result"
        }
      ],
      "source": [
        "df3.sample(5).T"
      ]
    },
    {
      "cell_type": "markdown",
      "metadata": {
        "id": "y0oOmuCzIE2y"
      },
      "source": [
        "# 4. Análise Exploratória de dados"
      ]
    },
    {
      "cell_type": "markdown",
      "metadata": {
        "id": "YX8-msaMIJbE"
      },
      "source": [
        "## 4.1 Análise Univariada"
      ]
    },
    {
      "cell_type": "code",
      "execution_count": 29,
      "metadata": {
        "id": "RH0bgOdGIwhf"
      },
      "outputs": [],
      "source": [
        "df4 = df3.copy()"
      ]
    },
    {
      "cell_type": "code",
      "execution_count": 30,
      "metadata": {
        "id": "7o4EJowwIl3z"
      },
      "outputs": [],
      "source": [
        "# Definindo datasets:\n",
        "num_attributes = df4.select_dtypes(include=['int64', 'float64'])\n",
        "cat_attributes = df4.select_dtypes(exclude=['int64', 'float64', 'datetime64[ns]'])\n"
      ]
    },
    {
      "cell_type": "markdown",
      "metadata": {
        "id": "VKP5iB_jKYTV"
      },
      "source": [
        "### 4.1.1 Variáveis Numéricas"
      ]
    },
    {
      "cell_type": "code",
      "execution_count": 42,
      "metadata": {
        "colab": {
          "base_uri": "https://localhost:8080/",
          "height": 1000
        },
        "id": "tV1Muo8ZJUgL",
        "outputId": "b9a25b91-1ee5-4567-b807-46043d0e9ba9"
      },
      "outputs": [
        {
          "data": {
            "image/png": "[encoded data removed]",
            "text/plain": [
              "<Figure size 1440x1440 with 20 Axes>"
            ]
          },
          "metadata": {},
          "output_type": "display_data"
        }
      ],
      "source": [
        "# Análise do portfólio total:\n",
        "sns.set(rc={'figure.figsize':(20,20)})\n",
        "num_attributes.hist();\n"
      ]
    },
    {
      "cell_type": "markdown",
      "metadata": {
        "id": "lqwQMsAyKdL0"
      },
      "source": [
        "### 4.1.2 Variáveis Categóricas"
      ]
    },
    {
      "cell_type": "code",
      "execution_count": 32,
      "metadata": {
        "colab": {
          "base_uri": "https://localhost:8080/",
          "height": 206
        },
        "id": "Q7wBVm4aKgJD",
        "outputId": "3ff9abd2-177b-414b-8ede-7fa5e205c885"
      },
      "outputs": [
        {
          "data": {
            "text/html": [
              "<div>\n",
              "<style scoped>\n",
              "    .dataframe tbody tr th:only-of-type {\n",
              "        vertical-align: middle;\n",
              "    }\n",
              "\n",
              "    .dataframe tbody tr th {\n",
              "        vertical-align: top;\n",
              "    }\n",
              "\n",
              "    .dataframe thead th {\n",
              "        text-align: right;\n",
              "    }\n",
              "</style>\n",
              "<table border=\"1\" class=\"dataframe\">\n",
              "  <thead>\n",
              "    <tr style=\"text-align: right;\">\n",
              "      <th></th>\n",
              "      <th>19996</th>\n",
              "      <th>16090</th>\n",
              "      <th>14093</th>\n",
              "      <th>17620</th>\n",
              "      <th>17497</th>\n",
              "    </tr>\n",
              "  </thead>\n",
              "  <tbody>\n",
              "    <tr>\n",
              "      <th>bathrooms</th>\n",
              "      <td>1</td>\n",
              "      <td>1</td>\n",
              "      <td>1</td>\n",
              "      <td>2</td>\n",
              "      <td>1</td>\n",
              "    </tr>\n",
              "    <tr>\n",
              "      <th>floors</th>\n",
              "      <td>1</td>\n",
              "      <td>1</td>\n",
              "      <td>1</td>\n",
              "      <td>2</td>\n",
              "      <td>1</td>\n",
              "    </tr>\n",
              "    <tr>\n",
              "      <th>season</th>\n",
              "      <td>primavera</td>\n",
              "      <td>primavera</td>\n",
              "      <td>primavera</td>\n",
              "      <td>verao</td>\n",
              "      <td>outono</td>\n",
              "    </tr>\n",
              "    <tr>\n",
              "      <th>dormitory_type</th>\n",
              "      <td>house</td>\n",
              "      <td>house</td>\n",
              "      <td>house</td>\n",
              "      <td>house</td>\n",
              "      <td>house</td>\n",
              "    </tr>\n",
              "    <tr>\n",
              "      <th>price_group</th>\n",
              "      <td>acima da mediana</td>\n",
              "      <td>quartil_1</td>\n",
              "      <td>acima da mediana</td>\n",
              "      <td>quartil_1</td>\n",
              "      <td>acima da mediana</td>\n",
              "    </tr>\n",
              "    <tr>\n",
              "      <th>house_age</th>\n",
              "      <td>old_house</td>\n",
              "      <td>very_old_house</td>\n",
              "      <td>old_house</td>\n",
              "      <td>new_house</td>\n",
              "      <td>very_old_house</td>\n",
              "    </tr>\n",
              "    <tr>\n",
              "      <th>better_season_to_sell</th>\n",
              "      <td>primavera</td>\n",
              "      <td>primavera</td>\n",
              "      <td>primavera</td>\n",
              "      <td>primavera</td>\n",
              "      <td>primavera</td>\n",
              "    </tr>\n",
              "  </tbody>\n",
              "</table>\n",
              "</div>"
            ],
            "text/plain": [
              "                                  19996           16090             14093  \\\n",
              "bathrooms                             1               1                 1   \n",
              "floors                                1               1                 1   \n",
              "season                        primavera       primavera         primavera   \n",
              "dormitory_type                    house           house             house   \n",
              "price_group            acima da mediana       quartil_1  acima da mediana   \n",
              "house_age                     old_house  very_old_house         old_house   \n",
              "better_season_to_sell         primavera       primavera         primavera   \n",
              "\n",
              "                           17620             17497  \n",
              "bathrooms                      2                 1  \n",
              "floors                         2                 1  \n",
              "season                     verao            outono  \n",
              "dormitory_type             house             house  \n",
              "price_group            quartil_1  acima da mediana  \n",
              "house_age              new_house    very_old_house  \n",
              "better_season_to_sell  primavera         primavera  "
            ]
          },
          "execution_count": 32,
          "metadata": {},
          "output_type": "execute_result"
        }
      ],
      "source": [
        "cat_attributes.sample(5).T"
      ]
    },
    {
      "cell_type": "code",
      "execution_count": 33,
      "metadata": {
        "colab": {
          "base_uri": "https://localhost:8080/",
          "height": 666
        },
        "id": "WVLPloLLK_cV",
        "outputId": "09e2db29-846c-4237-88f5-928928c13dfd"
      },
      "outputs": [
        {
          "name": "stderr",
          "output_type": "stream",
          "text": [
            "c:\\Repos\\0_ao_ds\\projeto_house_rocket\\venv\\lib\\site-packages\\seaborn\\_decorators.py:36: FutureWarning: Pass the following variable as a keyword arg: x. From version 0.12, the only valid positional argument will be `data`, and passing other arguments without an explicit keyword will result in an error or misinterpretation.\n",
            "  warnings.warn(\n"
          ]
        },
        {
          "data": {
            "image/png": "[encoded data removed]",
            "text/plain": [
              "<Figure size 1440x720 with 2 Axes>"
            ]
          },
          "metadata": {},
          "output_type": "display_data"
        }
      ],
      "source": [
        "# Melhor estação para venda\n",
        "\n",
        "sns.set(rc={'figure.figsize':(20,10)})\n",
        "plt.subplot(1, 2, 1)\n",
        "sns.countplot(cat_attributes['better_season_to_sell']);\n",
        "\n",
        "plt.subplot(1, 2, 2)\n",
        "sns.kdeplot(df4[df4['better_season_to_sell'] == 'inverno']['price_m2'], label ='inverno', shade=True);\n",
        "sns.kdeplot(df4[df4['better_season_to_sell'] == 'outono']['price_m2'], label ='outono', shade=True);\n",
        "sns.kdeplot(df4[df4['better_season_to_sell'] == 'verao']['price_m2'], label ='verao', shade=True);\n",
        "sns.kdeplot(df4[df4['better_season_to_sell'] == 'primavera']['price_m2'], label ='primavera', shade=True);"
      ]
    },
    {
      "cell_type": "code",
      "execution_count": 34,
      "metadata": {
        "colab": {
          "base_uri": "https://localhost:8080/",
          "height": 683
        },
        "id": "QBkdge7rMWWo",
        "outputId": "4fefb857-2d62-4c73-af31-3e2bda533102"
      },
      "outputs": [
        {
          "name": "stderr",
          "output_type": "stream",
          "text": [
            "c:\\Repos\\0_ao_ds\\projeto_house_rocket\\venv\\lib\\site-packages\\seaborn\\_decorators.py:36: FutureWarning: Pass the following variable as a keyword arg: x. From version 0.12, the only valid positional argument will be `data`, and passing other arguments without an explicit keyword will result in an error or misinterpretation.\n",
            "  warnings.warn(\n"
          ]
        },
        {
          "data": {
            "text/plain": [
              "<AxesSubplot:xlabel='price_m2', ylabel='Density'>"
            ]
          },
          "execution_count": 34,
          "metadata": {},
          "output_type": "execute_result"
        },
        {
          "data": {
            "image/png": "[encoded data removed]",
            "text/plain": [
              "<Figure size 1440x720 with 2 Axes>"
            ]
          },
          "metadata": {},
          "output_type": "display_data"
        }
      ],
      "source": [
        "# Tipos de imóveis\n",
        "\n",
        "plt.subplot(1, 2, 1)\n",
        "sns.countplot(cat_attributes['dormitory_type']);\n",
        "\n",
        "plt.subplot(1, 2, 2)\n",
        "sns.kdeplot(df4[df4['dormitory_type'] == 'apartament']['price_m2'], label ='apartament', shade=True)\n",
        "sns.kdeplot(df4[df4['dormitory_type'] == 'house']['price_m2'], label ='house', shade=True)\n",
        "sns.kdeplot(df4[df4['dormitory_type'] == 'mansion']['price_m2'], label ='mansion'     , shade=True)\n",
        "sns.kdeplot(df4[df4['dormitory_type'] == 'studio']['price_m2'], label ='primavera'     , shade=True)"
      ]
    },
    {
      "cell_type": "code",
      "execution_count": 35,
      "metadata": {
        "colab": {
          "base_uri": "https://localhost:8080/",
          "height": 667
        },
        "id": "_g5in6plK7w1",
        "outputId": "baf0e415-fbfe-4850-b15a-0050287b4b6b"
      },
      "outputs": [
        {
          "name": "stderr",
          "output_type": "stream",
          "text": [
            "c:\\Repos\\0_ao_ds\\projeto_house_rocket\\venv\\lib\\site-packages\\seaborn\\_decorators.py:36: FutureWarning: Pass the following variable as a keyword arg: x. From version 0.12, the only valid positional argument will be `data`, and passing other arguments without an explicit keyword will result in an error or misinterpretation.\n",
            "  warnings.warn(\n"
          ]
        },
        {
          "data": {
            "image/png": "[encoded data removed]",
            "text/plain": [
              "<Figure size 1440x720 with 1 Axes>"
            ]
          },
          "metadata": {},
          "output_type": "display_data"
        }
      ],
      "source": [
        "# Classificação pelo price/m2\n",
        "\n",
        "plt.subplot(1, 2, 1)\n",
        "sns.countplot(cat_attributes['price_group']);\n",
        "\n",
        "# plt.subplot(1, 2, 2)\n",
        "# sns.kdeplot(df4[df4['price_group'] == 'apartament']['price_m2'], label ='apartament', shade=True)\n",
        "# sns.kdeplot(df4[df4['price_group'] == 'house']['price_m2'], label ='house', shade=True)\n",
        "# sns.kdeplot(df4[df4['price_group'] == 'mansion']['price_m2'], label ='mansion'     , shade=True)\n",
        "# sns.kdeplot(df4[df4['price_group'] == 'studio']['price_m2'], label ='primavera'     , shade=True)"
      ]
    },
    {
      "cell_type": "code",
      "execution_count": 36,
      "metadata": {
        "colab": {
          "base_uri": "https://localhost:8080/",
          "height": 833
        },
        "id": "8TZeJOmJLj75",
        "outputId": "8c5ac91f-4768-475b-82f5-90e8e984a3ad"
      },
      "outputs": [
        {
          "data": {
            "text/html": [
              "<div>\n",
              "<style scoped>\n",
              "    .dataframe tbody tr th:only-of-type {\n",
              "        vertical-align: middle;\n",
              "    }\n",
              "\n",
              "    .dataframe tbody tr th {\n",
              "        vertical-align: top;\n",
              "    }\n",
              "\n",
              "    .dataframe thead th {\n",
              "        text-align: right;\n",
              "    }\n",
              "</style>\n",
              "<table border=\"1\" class=\"dataframe\">\n",
              "  <thead>\n",
              "    <tr style=\"text-align: right;\">\n",
              "      <th></th>\n",
              "      <th>price_group</th>\n",
              "      <th>house_age</th>\n",
              "      <th>dormitory_type</th>\n",
              "      <th>price</th>\n",
              "    </tr>\n",
              "  </thead>\n",
              "  <tbody>\n",
              "    <tr>\n",
              "      <th>0</th>\n",
              "      <td>acima da mediana</td>\n",
              "      <td>new_house</td>\n",
              "      <td>apartment</td>\n",
              "      <td>2</td>\n",
              "    </tr>\n",
              "    <tr>\n",
              "      <th>1</th>\n",
              "      <td>acima da mediana</td>\n",
              "      <td>new_house</td>\n",
              "      <td>house</td>\n",
              "      <td>21</td>\n",
              "    </tr>\n",
              "    <tr>\n",
              "      <th>2</th>\n",
              "      <td>acima da mediana</td>\n",
              "      <td>new_house</td>\n",
              "      <td>mansion</td>\n",
              "      <td>2</td>\n",
              "    </tr>\n",
              "    <tr>\n",
              "      <th>3</th>\n",
              "      <td>acima da mediana</td>\n",
              "      <td>old_house</td>\n",
              "      <td>apartment</td>\n",
              "      <td>99</td>\n",
              "    </tr>\n",
              "    <tr>\n",
              "      <th>4</th>\n",
              "      <td>acima da mediana</td>\n",
              "      <td>old_house</td>\n",
              "      <td>house</td>\n",
              "      <td>1475</td>\n",
              "    </tr>\n",
              "    <tr>\n",
              "      <th>5</th>\n",
              "      <td>acima da mediana</td>\n",
              "      <td>old_house</td>\n",
              "      <td>mansion</td>\n",
              "      <td>226</td>\n",
              "    </tr>\n",
              "    <tr>\n",
              "      <th>6</th>\n",
              "      <td>acima da mediana</td>\n",
              "      <td>old_house</td>\n",
              "      <td>studio</td>\n",
              "      <td>5</td>\n",
              "    </tr>\n",
              "    <tr>\n",
              "      <th>7</th>\n",
              "      <td>acima da mediana</td>\n",
              "      <td>very_old_house</td>\n",
              "      <td>apartment</td>\n",
              "      <td>213</td>\n",
              "    </tr>\n",
              "    <tr>\n",
              "      <th>8</th>\n",
              "      <td>acima da mediana</td>\n",
              "      <td>very_old_house</td>\n",
              "      <td>house</td>\n",
              "      <td>797</td>\n",
              "    </tr>\n",
              "    <tr>\n",
              "      <th>9</th>\n",
              "      <td>acima da mediana</td>\n",
              "      <td>very_old_house</td>\n",
              "      <td>mansion</td>\n",
              "      <td>97</td>\n",
              "    </tr>\n",
              "    <tr>\n",
              "      <th>10</th>\n",
              "      <td>acima da mediana</td>\n",
              "      <td>very_old_house</td>\n",
              "      <td>studio</td>\n",
              "      <td>11</td>\n",
              "    </tr>\n",
              "    <tr>\n",
              "      <th>11</th>\n",
              "      <td>quartil_1</td>\n",
              "      <td>old_house</td>\n",
              "      <td>apartment</td>\n",
              "      <td>53</td>\n",
              "    </tr>\n",
              "    <tr>\n",
              "      <th>12</th>\n",
              "      <td>quartil_1</td>\n",
              "      <td>old_house</td>\n",
              "      <td>house</td>\n",
              "      <td>1188</td>\n",
              "    </tr>\n",
              "    <tr>\n",
              "      <th>13</th>\n",
              "      <td>quartil_1</td>\n",
              "      <td>old_house</td>\n",
              "      <td>mansion</td>\n",
              "      <td>122</td>\n",
              "    </tr>\n",
              "    <tr>\n",
              "      <th>14</th>\n",
              "      <td>quartil_1</td>\n",
              "      <td>old_house</td>\n",
              "      <td>studio</td>\n",
              "      <td>2</td>\n",
              "    </tr>\n",
              "    <tr>\n",
              "      <th>15</th>\n",
              "      <td>quartil_1</td>\n",
              "      <td>very_old_house</td>\n",
              "      <td>apartment</td>\n",
              "      <td>203</td>\n",
              "    </tr>\n",
              "    <tr>\n",
              "      <th>16</th>\n",
              "      <td>quartil_1</td>\n",
              "      <td>very_old_house</td>\n",
              "      <td>house</td>\n",
              "      <td>478</td>\n",
              "    </tr>\n",
              "    <tr>\n",
              "      <th>17</th>\n",
              "      <td>quartil_1</td>\n",
              "      <td>very_old_house</td>\n",
              "      <td>mansion</td>\n",
              "      <td>55</td>\n",
              "    </tr>\n",
              "    <tr>\n",
              "      <th>18</th>\n",
              "      <td>quartil_1</td>\n",
              "      <td>very_old_house</td>\n",
              "      <td>studio</td>\n",
              "      <td>4</td>\n",
              "    </tr>\n",
              "    <tr>\n",
              "      <th>19</th>\n",
              "      <td>quartil_2</td>\n",
              "      <td>old_house</td>\n",
              "      <td>apartment</td>\n",
              "      <td>52</td>\n",
              "    </tr>\n",
              "    <tr>\n",
              "      <th>20</th>\n",
              "      <td>quartil_2</td>\n",
              "      <td>old_house</td>\n",
              "      <td>house</td>\n",
              "      <td>783</td>\n",
              "    </tr>\n",
              "    <tr>\n",
              "      <th>21</th>\n",
              "      <td>quartil_2</td>\n",
              "      <td>old_house</td>\n",
              "      <td>mansion</td>\n",
              "      <td>81</td>\n",
              "    </tr>\n",
              "    <tr>\n",
              "      <th>22</th>\n",
              "      <td>quartil_2</td>\n",
              "      <td>old_house</td>\n",
              "      <td>studio</td>\n",
              "      <td>3</td>\n",
              "    </tr>\n",
              "    <tr>\n",
              "      <th>23</th>\n",
              "      <td>quartil_2</td>\n",
              "      <td>very_old_house</td>\n",
              "      <td>apartment</td>\n",
              "      <td>168</td>\n",
              "    </tr>\n",
              "    <tr>\n",
              "      <th>24</th>\n",
              "      <td>quartil_2</td>\n",
              "      <td>very_old_house</td>\n",
              "      <td>house</td>\n",
              "      <td>269</td>\n",
              "    </tr>\n",
              "    <tr>\n",
              "      <th>25</th>\n",
              "      <td>quartil_2</td>\n",
              "      <td>very_old_house</td>\n",
              "      <td>mansion</td>\n",
              "      <td>33</td>\n",
              "    </tr>\n",
              "    <tr>\n",
              "      <th>26</th>\n",
              "      <td>quartil_2</td>\n",
              "      <td>very_old_house</td>\n",
              "      <td>studio</td>\n",
              "      <td>11</td>\n",
              "    </tr>\n",
              "    <tr>\n",
              "      <th>27</th>\n",
              "      <td>quartil_3</td>\n",
              "      <td>new_house</td>\n",
              "      <td>mansion</td>\n",
              "      <td>2</td>\n",
              "    </tr>\n",
              "    <tr>\n",
              "      <th>28</th>\n",
              "      <td>quartil_3</td>\n",
              "      <td>old_house</td>\n",
              "      <td>apartment</td>\n",
              "      <td>21</td>\n",
              "    </tr>\n",
              "    <tr>\n",
              "      <th>29</th>\n",
              "      <td>quartil_3</td>\n",
              "      <td>old_house</td>\n",
              "      <td>house</td>\n",
              "      <td>336</td>\n",
              "    </tr>\n",
              "    <tr>\n",
              "      <th>30</th>\n",
              "      <td>quartil_3</td>\n",
              "      <td>old_house</td>\n",
              "      <td>mansion</td>\n",
              "      <td>37</td>\n",
              "    </tr>\n",
              "    <tr>\n",
              "      <th>31</th>\n",
              "      <td>quartil_3</td>\n",
              "      <td>old_house</td>\n",
              "      <td>studio</td>\n",
              "      <td>2</td>\n",
              "    </tr>\n",
              "    <tr>\n",
              "      <th>32</th>\n",
              "      <td>quartil_3</td>\n",
              "      <td>very_old_house</td>\n",
              "      <td>apartment</td>\n",
              "      <td>63</td>\n",
              "    </tr>\n",
              "    <tr>\n",
              "      <th>33</th>\n",
              "      <td>quartil_3</td>\n",
              "      <td>very_old_house</td>\n",
              "      <td>house</td>\n",
              "      <td>98</td>\n",
              "    </tr>\n",
              "    <tr>\n",
              "      <th>34</th>\n",
              "      <td>quartil_3</td>\n",
              "      <td>very_old_house</td>\n",
              "      <td>mansion</td>\n",
              "      <td>9</td>\n",
              "    </tr>\n",
              "    <tr>\n",
              "      <th>35</th>\n",
              "      <td>quartil_3</td>\n",
              "      <td>very_old_house</td>\n",
              "      <td>studio</td>\n",
              "      <td>6</td>\n",
              "    </tr>\n",
              "    <tr>\n",
              "      <th>36</th>\n",
              "      <td>quartil_4</td>\n",
              "      <td>new_house</td>\n",
              "      <td>mansion</td>\n",
              "      <td>1</td>\n",
              "    </tr>\n",
              "    <tr>\n",
              "      <th>37</th>\n",
              "      <td>quartil_4</td>\n",
              "      <td>old_house</td>\n",
              "      <td>apartment</td>\n",
              "      <td>16</td>\n",
              "    </tr>\n",
              "    <tr>\n",
              "      <th>38</th>\n",
              "      <td>quartil_4</td>\n",
              "      <td>old_house</td>\n",
              "      <td>house</td>\n",
              "      <td>213</td>\n",
              "    </tr>\n",
              "    <tr>\n",
              "      <th>39</th>\n",
              "      <td>quartil_4</td>\n",
              "      <td>old_house</td>\n",
              "      <td>mansion</td>\n",
              "      <td>28</td>\n",
              "    </tr>\n",
              "    <tr>\n",
              "      <th>40</th>\n",
              "      <td>quartil_4</td>\n",
              "      <td>old_house</td>\n",
              "      <td>studio</td>\n",
              "      <td>2</td>\n",
              "    </tr>\n",
              "    <tr>\n",
              "      <th>41</th>\n",
              "      <td>quartil_4</td>\n",
              "      <td>very_old_house</td>\n",
              "      <td>apartment</td>\n",
              "      <td>13</td>\n",
              "    </tr>\n",
              "    <tr>\n",
              "      <th>42</th>\n",
              "      <td>quartil_4</td>\n",
              "      <td>very_old_house</td>\n",
              "      <td>house</td>\n",
              "      <td>34</td>\n",
              "    </tr>\n",
              "    <tr>\n",
              "      <th>43</th>\n",
              "      <td>quartil_4</td>\n",
              "      <td>very_old_house</td>\n",
              "      <td>mansion</td>\n",
              "      <td>6</td>\n",
              "    </tr>\n",
              "    <tr>\n",
              "      <th>44</th>\n",
              "      <td>quartil_4</td>\n",
              "      <td>very_old_house</td>\n",
              "      <td>studio</td>\n",
              "      <td>4</td>\n",
              "    </tr>\n",
              "  </tbody>\n",
              "</table>\n",
              "</div>"
            ],
            "text/plain": [
              "         price_group       house_age dormitory_type  price\n",
              "0   acima da mediana       new_house      apartment      2\n",
              "1   acima da mediana       new_house          house     21\n",
              "2   acima da mediana       new_house        mansion      2\n",
              "3   acima da mediana       old_house      apartment     99\n",
              "4   acima da mediana       old_house          house   1475\n",
              "5   acima da mediana       old_house        mansion    226\n",
              "6   acima da mediana       old_house         studio      5\n",
              "7   acima da mediana  very_old_house      apartment    213\n",
              "8   acima da mediana  very_old_house          house    797\n",
              "9   acima da mediana  very_old_house        mansion     97\n",
              "10  acima da mediana  very_old_house         studio     11\n",
              "11         quartil_1       old_house      apartment     53\n",
              "12         quartil_1       old_house          house   1188\n",
              "13         quartil_1       old_house        mansion    122\n",
              "14         quartil_1       old_house         studio      2\n",
              "15         quartil_1  very_old_house      apartment    203\n",
              "16         quartil_1  very_old_house          house    478\n",
              "17         quartil_1  very_old_house        mansion     55\n",
              "18         quartil_1  very_old_house         studio      4\n",
              "19         quartil_2       old_house      apartment     52\n",
              "20         quartil_2       old_house          house    783\n",
              "21         quartil_2       old_house        mansion     81\n",
              "22         quartil_2       old_house         studio      3\n",
              "23         quartil_2  very_old_house      apartment    168\n",
              "24         quartil_2  very_old_house          house    269\n",
              "25         quartil_2  very_old_house        mansion     33\n",
              "26         quartil_2  very_old_house         studio     11\n",
              "27         quartil_3       new_house        mansion      2\n",
              "28         quartil_3       old_house      apartment     21\n",
              "29         quartil_3       old_house          house    336\n",
              "30         quartil_3       old_house        mansion     37\n",
              "31         quartil_3       old_house         studio      2\n",
              "32         quartil_3  very_old_house      apartment     63\n",
              "33         quartil_3  very_old_house          house     98\n",
              "34         quartil_3  very_old_house        mansion      9\n",
              "35         quartil_3  very_old_house         studio      6\n",
              "36         quartil_4       new_house        mansion      1\n",
              "37         quartil_4       old_house      apartment     16\n",
              "38         quartil_4       old_house          house    213\n",
              "39         quartil_4       old_house        mansion     28\n",
              "40         quartil_4       old_house         studio      2\n",
              "41         quartil_4  very_old_house      apartment     13\n",
              "42         quartil_4  very_old_house          house     34\n",
              "43         quartil_4  very_old_house        mansion      6\n",
              "44         quartil_4  very_old_house         studio      4"
            ]
          },
          "execution_count": 36,
          "metadata": {},
          "output_type": "execute_result"
        }
      ],
      "source": [
        "df4[df4['condition']>=4][['price_group', 'house_age', 'dormitory_type', 'price']].groupby(['price_group', 'house_age', 'dormitory_type']).count().reset_index()"
      ]
    },
    {
      "cell_type": "code",
      "execution_count": 37,
      "metadata": {
        "colab": {
          "base_uri": "https://localhost:8080/"
        },
        "id": "glN0ROidP8Lq",
        "outputId": "db39b29c-1de0-485c-b495-6aaa160c624a"
      },
      "outputs": [
        {
          "data": {
            "text/plain": [
              "old_house         11863\n",
              "very_old_house     5126\n",
              "new_house          4537\n",
              "Name: house_age, dtype: int64"
            ]
          },
          "execution_count": 37,
          "metadata": {},
          "output_type": "execute_result"
        }
      ],
      "source": [
        "df4['house_age'].value_counts()"
      ]
    },
    {
      "cell_type": "markdown",
      "metadata": {
        "id": "r3IzN9GtIRSn"
      },
      "source": [
        "## 4.2 Análise Bivariada"
      ]
    },
    {
      "cell_type": "markdown",
      "metadata": {
        "id": "hhoQsqzFYgr9"
      },
      "source": [
        "st.header('Hipóteses de Negócio')\n",
        "    st.write('Abaixo são apresentadas análises complementares dos dados, validando hipóteses que possam gerar ações e auxiliar no direcionamento da tomada de decisão da empresa.')\n",
        "\n",
        "    #1:\n",
        "    st.write('#### Hipótese 1: o crescimento do preço dos imóveis de 2014 para 2015 foi de 10%.')\n",
        "    #st.subheader('Hipótese 1: o crescimento do preço dos imóveis de 2014 para 2015 foi de 10%.')\n",
        "    price_yr = data[['price', 'year']].groupby('year').mean().reset_index()\n",
        "    yoy = price_yr.loc[1, 'price'] / price_yr.loc[0, 'price'] -1\n",
        "    st.write(f'R: o crescimento médio dos preços no período foi de {yoy:.1%}.')\n",
        "\n",
        "    #2:\n",
        "    st.write('#### Hipótese 2: imóveis que possuem vista para água são 20% mais caros na média.')\n",
        "    price_wf = data[['waterfront', 'price']].groupby('waterfront').mean().reset_index()\n",
        "    price_wf = price_wf.loc[1, 'price'] / price_wf.loc[0, 'price'] -1\n",
        "    st.write(f'R: imóveis com vista para a água são {price_wf:.1%} mais caros que os demais.')\n",
        "\n",
        "    #3:\n",
        "    st.write('#### Hipótese 3: a área dos imoveis com vista para a agua, em média, é 50% maior que os demais.')\n",
        "    wf_1 = data[data['waterfront'] == 1]['sqft_lot'].mean()\n",
        "    wf_0 = data[data['waterfront'] == 0]['sqft_lot'].mean()\n",
        "    rate_wf = wf_1 / wf_0 -1\n",
        "    st.write(f'R: os imóveis que possuem vista para a água são, em média, {rate_wf:.1%} maiores que os demais.')\n",
        "\n",
        "    #4:\n",
        "    st.write('#### Hipótese 4: imóveis sem porão possuem área total 40% maior que os imoveis com porão.')\n",
        "    without_basement = data[(data['sqft_basement'] == 0)]['sqft_lot'].mean()\n",
        "    with_basement = data[(data['sqft_basement'] > 0)] ['sqft_lot'].mean()\n",
        "    rate_basement = without_basement / with_basement -1\n",
        "    st.write(f'R: Imóveis sem porão possuem uma área em média {rate_basement:.1%} maior que os imóveis com porão.')\n",
        "\n",
        "    #5: Hipótese sem ação (colocar MoM na primeira questão faz mais sentido do que YoY)\n",
        "    st.write('#### Hipótese 5: imóveis com 3 banheiros tiveram um crescimento de 15% ao mês (MoM)')\n",
        "    bathroom3 = data[(data['bathrooms'] == 3)][['price', 'year', 'month']]\n",
        "    bathroom3 = bathroom3[['price', 'year', 'month']].groupby(['year', 'month']).mean().reset_index()\n",
        "    bathroom3['diff'] = bathroom3['price'].diff()\n",
        "    bathroom3['MoM'] = bathroom3['price'].pct_change()\n",
        "    bathroom3\n",
        "\n",
        "    #6:\n",
        "    st.write('#### Hipótese 6: imóveis que foram reformados e estão em boas condições são, em média, 20% mais caros que os não reformados nas mesmas condições.')\n",
        "    condition3_4 = data[(data['condition'] == 3) | (data['condition'] == 4)] [['price', 'yr_renovated', 'condition']]\n",
        "    not_renovated = condition3_4[(condition3_4['yr_renovated'] == 0)].mean()\n",
        "    renovated = condition3_4[(condition3_4['yr_renovated'] != 0)].mean()\n",
        "    ratio3_4 = renovated['price'] / not_renovated['price'] -1\n",
        "    st.write(f'R: Os imóveis reformados são em média {ratio3_4:.1%} mais caros que imóveis nas mesmas condições que não foram reformados.')\n",
        "\n",
        "    #7:\n",
        "    st.write('#### Hipótese 7: imóveis em más condições são 20% mais baratos que imoveis em boas condições.')\n",
        "    condition = data[['price', 'condition']].groupby('condition').mean().reset_index()\n",
        "    mean_bad = condition[(condition['condition'] <=2)]['price'].mean()\n",
        "    mean_good = condition[(condition['condition'] > 2 ) & (condition['condition'] < 5)]['price'].mean()\n",
        "    mean_great = condition[(condition['condition'] == 5)]['price'].mean()\n",
        "    ratio_bad_good = 1- mean_bad / mean_good \n",
        "    ratio_bad_great = 1- mean_bad / mean_great\n",
        "    st.write(f'R: Imóveis em más condições são em média {ratio_bad_good:.1%} mais baratos que imóveis em boas condições e são {ratio_bad_great:.1%} mais baratos que imóveis em ótimas condições.')\n",
        "\n",
        "    #8:.\\venve\n",
        "    st.write('#### Hipótese 8: imóveis construídos depois dos anos 2000 possuem área total 20% menor que os demais.')\n",
        "    mean_2000 = data[data['yr_built'] >= 2000] ['sqft_lot']. mean()\n",
        "    mean_1900 = data[data['yr_built'] < 2000] ['sqft_lot']. mean()\n",
        "    ratio_sqft2000 = 1- mean_2000 / mean_1900\n",
        "    st.write(f'R: Imóveis construídos depois dos anos 2000 são em média {ratio_sqft2000:.1%} menores que os demais.')\n",
        "\n",
        "    #9:\n",
        "    st.write('#### Hipótese 9: imoveis construídos depois dos anos 2000 são 30% mais caros que os demais')\n",
        "    price_1900 = data[data['yr_built'] < 2000] ['price']. mean()\n",
        "    price_2000 = data[data['yr_built'] >= 2000] ['price']. mean()\n",
        "    ratio_price2000 = price_2000 / price_1900 -1\n",
        "    st.write(f'R: Imóveis construídos depois dos anos 2000 são em média {ratio_price2000:.1%} mais caros que os demais.')\n",
        "\n",
        "    #10:\n",
        "    st.write('#### Hipótese 10: imóveis com data de construção menor que 1955 são 50% mais baratos na média.')\n",
        "    # Mediana de preço dos imoveis construidos depois de 1955\n",
        "    over_55 = data[(data['yr_built'] > 1955)]['price'].mean()\n",
        "    under_55 = data[(data['yr_built'] <= 1955)]['price'].mean()\n",
        "    ratio_price55 = 1- under_55 / over_55\n",
        "    st.write(f'R: Imóveis construídos antes de 1955 são em média {ratio_price55:.1%} mais baratos.')"
      ]
    },
    {
      "cell_type": "markdown",
      "metadata": {
        "id": "LbinzjfuIXsG"
      },
      "source": [
        "## 4.3 Análise Multivariada"
      ]
    },
    {
      "cell_type": "markdown",
      "metadata": {
        "id": "V-vhUeyHhwme"
      },
      "source": [
        "# 5. Resposta ao CEO\n",
        "\n",
        "* Quais imóveis comprar?\n",
        "* Quando vender?\n",
        "* Por quanto vender?"
      ]
    },
    {
      "cell_type": "code",
      "execution_count": 38,
      "metadata": {
        "id": "SyfjQlC48wSZ"
      },
      "outputs": [],
      "source": [
        "# # Sugestão de compra:\n",
        "#     # Obs.: Nesse ciclo vou trabalhar com a sugestão de compra de imóveis com preço 40% abaixo da mediana e condição maior ou igual a 4\n",
        "#     # Para o cenário apresentado essa conclusão deveria ser definida depois da EDA.\n",
        "    \n",
        "# for i in range(len(df2)):\n",
        "#   if (df2.loc[i, 'price_m2'] < (df2.loc[i, 'median_price_m2_zipcode']* 0.6)) & (df2.loc[i, 'condition'] >= 4):\n",
        "#     df2.loc[i, 'status'] = 'buy'\n",
        "#   else:\n",
        "#     df2.loc [i, 'status'] = 'not_buy'\n",
        "\n",
        "# # Sugestão do preço de venda:\n",
        "#     # Obs.: Nesse ciclo vou trabalhar com a sugestão do preço de revenda de 40% acima do preço de compra. \n",
        "\n",
        "# for i in range(len(df2)):\n",
        "#   df2.loc[i, 'sale_price'] = df2.loc[i, 'price'] * 1.4"
      ]
    }
  ],
  "metadata": {
    "colab": {
      "collapsed_sections": [
        "3FM0uMYVfQMb",
        "f6XGGYcefVms",
        "E41MywY5fcNy",
        "iUAihytfE6kV",
        "2xKEEpH2hGki",
        "WQSR-s_UiHaY",
        "otl37Yhth7yw",
        "D-cjtUMfkllC",
        "oR0Ds_JikuNN",
        "49zTKYOvpo-g"
      ],
      "name": "v02_house_rocket.ipynb",
      "provenance": []
    },
    "interpreter": {
      "hash": "d94915b2124e998b0855dd7b54f0c443fbe7c92d08f0a4850c85edf07a425b25"
    },
    "kernelspec": {
      "display_name": "Python 3.9.12 ('venv': venv)",
      "language": "python",
      "name": "python3"
    },
    "language_info": {
      "codemirror_mode": {
        "name": "ipython",
        "version": 3
      },
      "file_extension": ".py",
      "mimetype": "text/x-python",
      "name": "python",
      "nbconvert_exporter": "python",
      "pygments_lexer": "ipython3",
      "version": "3.9.12"
    }
  },
  "nbformat": 4,
  "nbformat_minor": 0
}
